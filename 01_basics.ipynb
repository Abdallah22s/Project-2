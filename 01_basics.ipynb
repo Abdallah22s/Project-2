{
  "cells": [
    {
      "cell_type": "code",
      "execution_count": null,
      "id": "8cc8f2bf",
      "metadata": {
        "id": "8cc8f2bf",
        "outputId": "1f946728-8ed3-420b-cc0d-72fb9e7ca1be"
      },
      "outputs": [
        {
          "name": "stdout",
          "output_type": "stream",
          "text": [
            "Test\n"
          ]
        }
      ],
      "source": [
        "print(\"Test\")"
      ]
    }
  ],
  "metadata": {
    "language_info": {
      "name": "python"
    },
    "colab": {
      "provenance": []
    },
    "kernelspec": {
      "name": "python3",
      "display_name": "Python 3"
    }
  },
  "nbformat": 4,
  "nbformat_minor": 5
}